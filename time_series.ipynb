{
 "cells": [
  {
   "cell_type": "code",
   "execution_count": 1,
   "metadata": {},
   "outputs": [],
   "source": [
    "import pandas as pd\n",
    "from datetime import datetime"
   ]
  },
  {
   "cell_type": "code",
   "execution_count": 10,
   "metadata": {},
   "outputs": [],
   "source": [
    "df = pd.read_csv('time_stamps.csv')"
   ]
  },
  {
   "cell_type": "code",
   "execution_count": 11,
   "metadata": {},
   "outputs": [],
   "source": [
    "df.drop(df.columns[0], axis = 1, inplace = True)"
   ]
  },
  {
   "cell_type": "code",
   "execution_count": 12,
   "metadata": {},
   "outputs": [
    {
     "data": {
      "text/html": [
       "<div>\n",
       "<style scoped>\n",
       "    .dataframe tbody tr th:only-of-type {\n",
       "        vertical-align: middle;\n",
       "    }\n",
       "\n",
       "    .dataframe tbody tr th {\n",
       "        vertical-align: top;\n",
       "    }\n",
       "\n",
       "    .dataframe thead th {\n",
       "        text-align: right;\n",
       "    }\n",
       "</style>\n",
       "<table border=\"1\" class=\"dataframe\">\n",
       "  <thead>\n",
       "    <tr style=\"text-align: right;\">\n",
       "      <th></th>\n",
       "      <th>Start</th>\n",
       "      <th>End</th>\n",
       "    </tr>\n",
       "  </thead>\n",
       "  <tbody>\n",
       "    <tr>\n",
       "      <td>0</td>\n",
       "      <td>2020-11-19 18:40:45.611647</td>\n",
       "      <td>2020-11-19 18:40:53.866552</td>\n",
       "    </tr>\n",
       "    <tr>\n",
       "      <td>1</td>\n",
       "      <td>2020-11-19 18:40:56.311514</td>\n",
       "      <td>2020-11-19 18:41:05.913239</td>\n",
       "    </tr>\n",
       "    <tr>\n",
       "      <td>2</td>\n",
       "      <td>2020-11-19 18:41:08.025064</td>\n",
       "      <td>2020-11-19 18:41:11.818257</td>\n",
       "    </tr>\n",
       "    <tr>\n",
       "      <td>3</td>\n",
       "      <td>2020-11-19 18:41:11.847465</td>\n",
       "      <td>2020-11-19 18:41:11.879219</td>\n",
       "    </tr>\n",
       "    <tr>\n",
       "      <td>4</td>\n",
       "      <td>2020-11-19 18:41:13.097133</td>\n",
       "      <td>2020-11-19 18:41:13.129209</td>\n",
       "    </tr>\n",
       "    <tr>\n",
       "      <td>5</td>\n",
       "      <td>2020-11-19 18:41:14.760388</td>\n",
       "      <td>2020-11-19 18:41:14.792071</td>\n",
       "    </tr>\n",
       "    <tr>\n",
       "      <td>6</td>\n",
       "      <td>2020-11-19 18:41:14.871394</td>\n",
       "      <td>2020-11-19 18:41:14.904685</td>\n",
       "    </tr>\n",
       "    <tr>\n",
       "      <td>7</td>\n",
       "      <td>2020-11-19 18:41:14.935836</td>\n",
       "      <td>2020-11-19 18:41:23.401816</td>\n",
       "    </tr>\n",
       "    <tr>\n",
       "      <td>8</td>\n",
       "      <td>2020-11-19 18:41:25.415961</td>\n",
       "      <td>2020-11-19 18:41:26.920046</td>\n",
       "    </tr>\n",
       "    <tr>\n",
       "      <td>9</td>\n",
       "      <td>2020-11-19 18:41:28.055942</td>\n",
       "      <td>2020-11-19 18:41:30.903978</td>\n",
       "    </tr>\n",
       "  </tbody>\n",
       "</table>\n",
       "</div>"
      ],
      "text/plain": [
       "                        Start                         End\n",
       "0  2020-11-19 18:40:45.611647  2020-11-19 18:40:53.866552\n",
       "1  2020-11-19 18:40:56.311514  2020-11-19 18:41:05.913239\n",
       "2  2020-11-19 18:41:08.025064  2020-11-19 18:41:11.818257\n",
       "3  2020-11-19 18:41:11.847465  2020-11-19 18:41:11.879219\n",
       "4  2020-11-19 18:41:13.097133  2020-11-19 18:41:13.129209\n",
       "5  2020-11-19 18:41:14.760388  2020-11-19 18:41:14.792071\n",
       "6  2020-11-19 18:41:14.871394  2020-11-19 18:41:14.904685\n",
       "7  2020-11-19 18:41:14.935836  2020-11-19 18:41:23.401816\n",
       "8  2020-11-19 18:41:25.415961  2020-11-19 18:41:26.920046\n",
       "9  2020-11-19 18:41:28.055942  2020-11-19 18:41:30.903978"
      ]
     },
     "execution_count": 12,
     "metadata": {},
     "output_type": "execute_result"
    }
   ],
   "source": [
    "df"
   ]
  },
  {
   "cell_type": "code",
   "execution_count": 14,
   "metadata": {},
   "outputs": [],
   "source": [
    "end = [datetime.strptime(str, '%Y-%m-%d %H:%M:%S.%f') for str in df['End']]\n",
    "start = [datetime.strptime(str, '%Y-%m-%d %H:%M:%S.%f') for str in df['Start']]"
   ]
  },
  {
   "cell_type": "code",
   "execution_count": 15,
   "metadata": {},
   "outputs": [],
   "source": [
    "df['Start_obj'] = start\n",
    "df['End_obj'] = end"
   ]
  },
  {
   "cell_type": "code",
   "execution_count": 13,
   "metadata": {},
   "outputs": [],
   "source": [
    "from bokeh.plotting import figure, output_file, show"
   ]
  },
  {
   "cell_type": "code",
   "execution_count": 16,
   "metadata": {},
   "outputs": [],
   "source": [
    "from bokeh.plotting import figure, output_file, show\n",
    "from bokeh.models import HoverTool, ColumnDataSource\n",
    "output_file('plotting.html')\n",
    "\n",
    "cds = ColumnDataSource(df)\n",
    "\n",
    "p = figure(x_axis_type = 'datetime', plot_width = 1200, plot_height=600, tools = '')\n",
    "p.quad(top=1,bottom=0, left='Start_obj',\n",
    "       right='End_obj', color=\"#B3DE69\", source = cds)\n",
    "p.ygrid.grid_line_color = None\n",
    "p.yaxis.minor_tick_line_color = None\n",
    "\n",
    "hover = HoverTool(tooltips = [(\"Start\", \"@Start\"), (\"End\", \"@End\")])\n",
    "p.add_tools(hover)\n",
    "# p.sizing_mode = 'scale_width'\n",
    "\n",
    "show(p)"
   ]
  }
 ],
 "metadata": {
  "kernelspec": {
   "display_name": "Python 3",
   "language": "python",
   "name": "python3"
  },
  "language_info": {
   "codemirror_mode": {
    "name": "ipython",
    "version": 3
   },
   "file_extension": ".py",
   "mimetype": "text/x-python",
   "name": "python",
   "nbconvert_exporter": "python",
   "pygments_lexer": "ipython3",
   "version": "3.7.4"
  }
 },
 "nbformat": 4,
 "nbformat_minor": 2
}
